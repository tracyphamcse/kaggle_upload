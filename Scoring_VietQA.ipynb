{
 "cells": [
  {
   "cell_type": "code",
   "execution_count": null,
   "metadata": {},
   "outputs": [],
   "source": [
    "%reload_ext autoreload\n",
    "%autoreload 2"
   ]
  },
  {
   "cell_type": "code",
   "execution_count": 1,
   "metadata": {},
   "outputs": [
    {
     "name": "stdout",
     "output_type": "stream",
     "text": [
      "Devices: cuda\n"
     ]
    }
   ],
   "source": [
    "from config.config import MODEL_PATH, MODEL_CLASSES, MODEL_TYPE, DO_LOWER_CASE, BATCH_SIZE, DEVICE\n",
    "from utils.load_data import *\n",
    "from utils.utils import *\n",
    "import torch\n",
    "from torch.utils.data import DataLoader, SequentialSampler\n",
    "from tqdm import tqdm\n",
    "import pandas as pd\n"
   ]
  },
  {
   "cell_type": "code",
   "execution_count": 2,
   "metadata": {},
   "outputs": [],
   "source": [
    "tokenizer = MODEL_CLASSES[MODEL_TYPE][2].from_pretrained(MODEL_PATH, do_lower_case=DO_LOWER_CASE)\n",
    "if (MODEL_TYPE == \"xlm\"):\n",
    "        tokenizer = MODEL_CLASSES[MODEL_TYPE][2].from_pretrained(MODEL_PATH, do_lowercase_and_remove_accent=DO_LOWER_CASE)"
   ]
  },
  {
   "cell_type": "code",
   "execution_count": 3,
   "metadata": {},
   "outputs": [],
   "source": [
    "import json\n",
    "data = json.load(open(\"data/test.json\",encoding='utf-8'))"
   ]
  },
  {
   "cell_type": "code",
   "execution_count": 36,
   "metadata": {},
   "outputs": [],
   "source": [
    "examples = []\n",
    "output_ids = []\n",
    "\n",
    "for testcase in data:\n",
    "    \n",
    "    test_id = testcase[\"__id__\"]\n",
    "    text_a = testcase[\"question\"]\n",
    "    \n",
    "    for paragraph in testcase[\"paragraphs\"]:\n",
    "        answer_id = paragraph[\"id\"]\n",
    "        text_b = paragraph[\"text\"]\n",
    "        output_ids.append({\"test_id\": test_id, \"answer_id\": answer_id, \"question\": text_a, \"answer\": text_b})\n",
    "        \n",
    "        example = InputExample(guid=\"\", text_a=remove_nonlatin(text_a), text_b=remove_nonlatin(text_b), label=0)\n",
    "        examples.append(example)\n",
    "        "
   ]
  },
  {
   "cell_type": "code",
   "execution_count": 5,
   "metadata": {},
   "outputs": [
    {
     "name": "stdout",
     "output_type": "stream",
     "text": [
      "2019-11-08 03:13:38,028 - load_data.py - INFO - Writing example 0 of 2678\n",
      "2019-11-08 03:13:50,350 - load_data.py - INFO - *** Example ***\n",
      "2019-11-08 03:13:50,352 - load_data.py - INFO - guid: \n",
      "2019-11-08 03:13:50,352 - load_data.py - INFO - tokens: </s> To à</w> nhà</w> nào</w> cao</w> nhất</w> Việt</w> Nam</w> </s> The</w> Land mark</w> 81</w> là</w> một</w> to à</w> nhà</w> ch ọc</w> trời</w> trong</w> tổ</w> hợp</w> dự</w> án</w> Vin homes</w> Tân</w> Cảng</w> ,</w> một</w> dự</w> án</w> có</w> tổng</w> mức</w> đầu</w> tư</w> 40.000</w> tỷ</w> đồng</w> ,</w> do</w> Công</w> ty</w> Cổ</w> phần</w> Đầu</w> tư</w> xây</w> dựng</w> Tân</w> Liên</w> Phát</w> thuộc</w> Ving ro up</w> làm</w> chủ</w> đầu</w> tư</w> .</w> To à</w> tháp</w> cao</w> 81</w> tầng</w> ,</w> hiện</w> tại</w> là</w> to à</w> nhà</w> cao</w> nhất</w> Việt</w> Nam</w> và</w> là</w> to à</w> nhà</w> cao</w> nhất</w> Đông</w> Nam</w> Á</w> từ</w> tháng</w> 3</w> năm</w> 2018</w> .</w> </s>\n",
      "2019-11-08 03:13:50,353 - load_data.py - INFO - input_ids: 1 3443 69 4758 24014 8089 4928 6671 4059 1 35 2855 3086 7332 286 409 1228 69 4758 282 81312 68170 547 15758 9261 20064 2984 10715 11735 29148 144564 14 409 20064 2984 669 18532 42757 1423 20477 55355 29225 7586 14 89 18035 1477 52186 8895 92928 20477 23477 22989 29148 17734 116879 2632 78259 458 158 4237 9650 1423 20477 15 3443 69 75930 8089 7332 57483 14 4988 2888 286 1228 69 4758 8089 4928 6671 4059 474 286 1228 69 4758 8089 4928 15085 4059 37931 2536 2398 179 637 903 15 1 0 0 0 0 0 0 0 0 0 0 0 0 0 0 0 0 0 0 0 0 0 0 0 0 0 0 0 0 0\n",
      "2019-11-08 03:13:50,354 - load_data.py - INFO - input_mask: 1 1 1 1 1 1 1 1 1 1 1 1 1 1 1 1 1 1 1 1 1 1 1 1 1 1 1 1 1 1 1 1 1 1 1 1 1 1 1 1 1 1 1 1 1 1 1 1 1 1 1 1 1 1 1 1 1 1 1 1 1 1 1 1 1 1 1 1 1 1 1 1 1 1 1 1 1 1 1 1 1 1 1 1 1 1 1 1 1 1 1 1 1 1 1 1 1 1 1 0 0 0 0 0 0 0 0 0 0 0 0 0 0 0 0 0 0 0 0 0 0 0 0 0 0 0 0 0\n",
      "2019-11-08 03:13:50,355 - load_data.py - INFO - segment_ids: 1 0 0 0 0 0 0 0 0 0 1 1 1 1 1 1 1 1 1 1 1 1 1 1 1 1 1 1 1 1 1 1 1 1 1 1 1 1 1 1 1 1 1 1 1 1 1 1 1 1 1 1 1 1 1 1 1 1 1 1 1 1 1 1 1 1 1 1 1 1 1 1 1 1 1 1 1 1 1 1 1 1 1 1 1 1 1 1 1 1 1 1 1 1 1 1 1 1 1 0 0 0 0 0 0 0 0 0 0 0 0 0 0 0 0 0 0 0 0 0 0 0 0 0 0 0 0 0\n",
      "2019-11-08 03:13:50,355 - load_data.py - INFO - label: 0 (id = 0)\n",
      "2019-11-08 03:13:50,358 - load_data.py - INFO - *** Example ***\n",
      "2019-11-08 03:13:50,359 - load_data.py - INFO - guid: \n",
      "2019-11-08 03:13:50,359 - load_data.py - INFO - tokens: </s> To à</w> nhà</w> nào</w> cao</w> nhất</w> Việt</w> Nam</w> </s> To à</w> tháp</w> cao</w> 81</w> tầng</w> ,</w> hiện</w> tại</w> là</w> to à</w> nhà</w> cao</w> nhất</w> Việt</w> Nam</w> và</w> là</w> to à</w> nhà</w> cao</w> nhất</w> Đông</w> Nam</w> Á</w> từ</w> tháng</w> 3</w> năm</w> 2018</w> .</w> Dự</w> án</w> được</w> xây</w> dựng</w> ở</w> Tân</w> Cảng</w> ,</w> quận</w> Bình</w> Thạnh</w> ,</w> ven</w> sông</w> Sài</w> Gòn</w> .</w> Dự</w> án</w> được</w> khởi</w> công</w> ngày</w> 26</w> /</w> 07</w> /</w> 2014</w> .</w> </s>\n",
      "2019-11-08 03:13:50,360 - load_data.py - INFO - input_ids: 1 3443 69 4758 24014 8089 4928 6671 4059 1 3443 69 75930 8089 7332 57483 14 4988 2888 286 1228 69 4758 8089 4928 6671 4059 474 286 1228 69 4758 8089 4928 15085 4059 37931 2536 2398 179 637 903 15 121745 2984 514 23477 22989 1470 29148 144564 14 16524 20668 144832 14 4182 18558 92423 98161 15 121745 2984 514 45567 3318 3137 831 133 9624 133 398 15 1 0 0 0 0 0 0 0 0 0 0 0 0 0 0 0 0 0 0 0 0 0 0 0 0 0 0 0 0 0 0 0 0 0 0 0 0 0 0 0 0 0 0 0 0 0 0 0 0 0 0 0 0 0 0\n",
      "2019-11-08 03:13:50,361 - load_data.py - INFO - input_mask: 1 1 1 1 1 1 1 1 1 1 1 1 1 1 1 1 1 1 1 1 1 1 1 1 1 1 1 1 1 1 1 1 1 1 1 1 1 1 1 1 1 1 1 1 1 1 1 1 1 1 1 1 1 1 1 1 1 1 1 1 1 1 1 1 1 1 1 1 1 1 1 1 1 1 0 0 0 0 0 0 0 0 0 0 0 0 0 0 0 0 0 0 0 0 0 0 0 0 0 0 0 0 0 0 0 0 0 0 0 0 0 0 0 0 0 0 0 0 0 0 0 0 0 0 0 0 0 0\n",
      "2019-11-08 03:13:50,361 - load_data.py - INFO - segment_ids: 1 0 0 0 0 0 0 0 0 0 1 1 1 1 1 1 1 1 1 1 1 1 1 1 1 1 1 1 1 1 1 1 1 1 1 1 1 1 1 1 1 1 1 1 1 1 1 1 1 1 1 1 1 1 1 1 1 1 1 1 1 1 1 1 1 1 1 1 1 1 1 1 1 1 0 0 0 0 0 0 0 0 0 0 0 0 0 0 0 0 0 0 0 0 0 0 0 0 0 0 0 0 0 0 0 0 0 0 0 0 0 0 0 0 0 0 0 0 0 0 0 0 0 0 0 0 0 0\n",
      "2019-11-08 03:13:50,362 - load_data.py - INFO - label: 0 (id = 0)\n",
      "2019-11-08 03:13:50,366 - load_data.py - INFO - *** Example ***\n",
      "2019-11-08 03:13:50,367 - load_data.py - INFO - guid: \n",
      "2019-11-08 03:13:50,367 - load_data.py - INFO - tokens: </s> Messi</w> thuận</w> chân</w> nào</w> </s> Đ ôi</w> chân</w> ngắn</w> nhưng</w> mạnh</w> mẽ</w> giúp</w> Messi</w> dễ</w> dàng</w> tăng</w> tốc</w> và</w> s ải</w> chân</w> nhanh</w> giúp</w> anh</w> kiểm</w> soát</w> bóng</w> tốt</w> khi</w> r ê</w> dắt</w> ở</w> tốc</w> độ</w> cao</w> .</w> C ựu</w> huấn</w> luyện</w> viên</w> Barcelona</w> ,</w> P ep</w> Guardi ola</w> ,</w> từng</w> nhận</w> xét</w> rằng</w> :</w> \"</w> Messi</w> là</w> cầu</w> thủ</w> duy</w> nhất</w> chạy</w> với</w> bóng</w> còn</w> nhanh</w> hơn</w> là</w> chạy</w> không</w> bóng</w> .</w> \"</w> Giống</w> Maradona</w> ,</w> Messi</w> là</w> một</w> cầu</w> thủ</w> thuận</w> chân</w> trái</w> .</w> </s>\n",
      "2019-11-08 03:13:50,368 - load_data.py - INFO - input_ids: 1 120811 53683 23441 24014 1 10681 44263 23441 48919 8161 25113 100381 27843 120811 54665 112715 17197 47057 474 228 79346 23441 37619 27843 11124 40226 58409 17566 30834 2843 744 20126 162268 1470 47057 7004 8089 15 373 113650 66398 42918 7872 6141 14 305 4315 52868 3323 14 22759 9469 62446 9230 39 16 120811 286 13912 13098 33803 4928 34115 1500 17566 6684 37619 6848 286 34115 2502 17566 15 16 136898 124614 14 120811 286 409 13912 13098 53683 23441 55577 15 1 0 0 0 0 0 0 0 0 0 0 0 0 0 0 0 0 0 0 0 0 0 0 0 0 0 0 0 0 0 0 0 0 0 0 0 0 0 0 0 0\n",
      "2019-11-08 03:13:50,369 - load_data.py - INFO - input_mask: 1 1 1 1 1 1 1 1 1 1 1 1 1 1 1 1 1 1 1 1 1 1 1 1 1 1 1 1 1 1 1 1 1 1 1 1 1 1 1 1 1 1 1 1 1 1 1 1 1 1 1 1 1 1 1 1 1 1 1 1 1 1 1 1 1 1 1 1 1 1 1 1 1 1 1 1 1 1 1 1 1 1 1 1 1 1 1 1 0 0 0 0 0 0 0 0 0 0 0 0 0 0 0 0 0 0 0 0 0 0 0 0 0 0 0 0 0 0 0 0 0 0 0 0 0 0 0 0\n",
      "2019-11-08 03:13:50,370 - load_data.py - INFO - segment_ids: 1 0 0 0 0 0 1 1 1 1 1 1 1 1 1 1 1 1 1 1 1 1 1 1 1 1 1 1 1 1 1 1 1 1 1 1 1 1 1 1 1 1 1 1 1 1 1 1 1 1 1 1 1 1 1 1 1 1 1 1 1 1 1 1 1 1 1 1 1 1 1 1 1 1 1 1 1 1 1 1 1 1 1 1 1 1 1 1 0 0 0 0 0 0 0 0 0 0 0 0 0 0 0 0 0 0 0 0 0 0 0 0 0 0 0 0 0 0 0 0 0 0 0 0 0 0 0 0\n",
      "2019-11-08 03:13:50,370 - load_data.py - INFO - label: 0 (id = 0)\n",
      "2019-11-08 03:13:50,373 - load_data.py - INFO - *** Example ***\n",
      "2019-11-08 03:13:50,374 - load_data.py - INFO - guid: \n",
      "2019-11-08 03:13:50,374 - load_data.py - INFO - tokens: </s> Messi</w> thuận</w> chân</w> nào</w> </s> C ựu</w> huấn</w> luyện</w> viên</w> Barcelona</w> ,</w> P ep</w> Guardi ola</w> ,</w> từng</w> nhận</w> xét</w> rằng</w> :</w> \"</w> Messi</w> là</w> cầu</w> thủ</w> duy</w> nhất</w> chạy</w> với</w> bóng</w> còn</w> nhanh</w> hơn</w> là</w> chạy</w> không</w> bóng</w> .</w> \"</w> Giống</w> Maradona</w> ,</w> Messi</w> là</w> một</w> cầu</w> thủ</w> thuận</w> chân</w> trái</w> .</w> Anh</w> thường</w> sử</w> dụng</w> má</w> ngoài</w> chân</w> trái</w> khi</w> giữ</w> bóng</w> ,</w> trong</w> khi</w> dùng</w> má</w> trong</w> để</w> dứt</w> điểm</w> ,</w> chuyền</w> bóng</w> và</w> kiến</w> tạo</w> cho</w> đồng</w> đội</w> .</w> </s>\n",
      "2019-11-08 03:13:50,375 - load_data.py - INFO - input_ids: 1 120811 53683 23441 24014 1 373 113650 66398 42918 7872 6141 14 305 4315 52868 3323 14 22759 9469 62446 9230 39 16 120811 286 13912 13098 33803 4928 34115 1500 17566 6684 37619 6848 286 34115 2502 17566 15 16 136898 124614 14 120811 286 409 13912 13098 53683 23441 55577 15 8998 9642 7115 7865 128096 21271 23441 55577 2843 21254 17566 14 547 2843 17716 128096 547 3463 114052 7850 14 161707 17566 474 28800 11546 1307 7586 8142 15 1 0 0 0 0 0 0 0 0 0 0 0 0 0 0 0 0 0 0 0 0 0 0 0 0 0 0 0 0 0 0 0 0 0 0 0 0 0 0 0 0 0 0 0\n",
      "2019-11-08 03:13:50,376 - load_data.py - INFO - input_mask: 1 1 1 1 1 1 1 1 1 1 1 1 1 1 1 1 1 1 1 1 1 1 1 1 1 1 1 1 1 1 1 1 1 1 1 1 1 1 1 1 1 1 1 1 1 1 1 1 1 1 1 1 1 1 1 1 1 1 1 1 1 1 1 1 1 1 1 1 1 1 1 1 1 1 1 1 1 1 1 1 1 1 1 1 1 0 0 0 0 0 0 0 0 0 0 0 0 0 0 0 0 0 0 0 0 0 0 0 0 0 0 0 0 0 0 0 0 0 0 0 0 0 0 0 0 0 0 0\n",
      "2019-11-08 03:13:50,377 - load_data.py - INFO - segment_ids: 1 0 0 0 0 0 1 1 1 1 1 1 1 1 1 1 1 1 1 1 1 1 1 1 1 1 1 1 1 1 1 1 1 1 1 1 1 1 1 1 1 1 1 1 1 1 1 1 1 1 1 1 1 1 1 1 1 1 1 1 1 1 1 1 1 1 1 1 1 1 1 1 1 1 1 1 1 1 1 1 1 1 1 1 1 0 0 0 0 0 0 0 0 0 0 0 0 0 0 0 0 0 0 0 0 0 0 0 0 0 0 0 0 0 0 0 0 0 0 0 0 0 0 0 0 0 0 0\n"
     ]
    },
    {
     "name": "stdout",
     "output_type": "stream",
     "text": [
      "2019-11-08 03:13:50,377 - load_data.py - INFO - label: 0 (id = 0)\n",
      "2019-11-08 03:13:50,380 - load_data.py - INFO - *** Example ***\n",
      "2019-11-08 03:13:50,380 - load_data.py - INFO - guid: \n",
      "2019-11-08 03:13:50,381 - load_data.py - INFO - tokens: </s> Messi</w> thuận</w> chân</w> nào</w> </s> Ngoài</w> ra</w> anh</w> còn</w> một</w> chân</w> sút</w> phạt</w> chính</w> và</w> hay</w> đảm</w> nhận</w> các</w> quả</w> phạt</w> đền</w> của</w> đội</w> .</w> Khi</w> đề</w> cập</w> đến</w> kĩ</w> năng</w> dắt</w> bóng</w> của</w> anh</w> ,</w> Maradona</w> đã</w> từng</w> nói</w> :</w> \"</w> Trái</w> bóng</w> dính</w> chặt</w> vào</w> chân</w> anh</w> ấy</w> ;</w> Trong</w> sự</w> nghiệp</w> của</w> mình</w> tôi</w> đã</w> xem</w> nhiều</w> cầu</w> thủ</w> xuất</w> chúng</w> chơi</w> bóng</w> nhưng</w> không</w> ai</w> giữ</w> bóng</w> tốt</w> như</w> Messi</w> .</w> \"</w> Maradona</w> còn</w> cho</w> biết</w> rằng</w> ông</w> tin</w> Messi</w> là</w> cầu</w> thủ</w> xuất</w> sắc</w> nhất</w> thế</w> giới</w> hiện</w> tại</w> .</w> </s>\n",
      "2019-11-08 03:13:50,382 - load_data.py - INFO - input_ids: 1 120811 53683 23441 24014 1 40185 659 11124 6684 409 23441 161398 96455 3830 474 3933 58405 9469 959 21128 96455 87111 493 8142 15 26508 14467 69502 2747 156800 14626 162268 17566 493 11124 14 124614 1481 22759 17221 39 16 75241 17566 158873 114039 2056 23441 11124 33944 90 9141 3709 15279 493 11161 46603 1481 30518 5192 13912 13098 7774 11663 21751 17566 8161 2502 751 21254 17566 30834 3582 120811 15 16 124614 6684 1307 16439 9230 3362 7025 120811 286 13912 13098 7774 30705 4928 6348 8592 4988 2888 15 1 0 0 0 0 0 0 0 0 0 0 0 0 0 0 0 0 0 0 0 0 0 0 0 0 0 0 0 0 0 0 0\n",
      "2019-11-08 03:13:50,383 - load_data.py - INFO - input_mask: 1 1 1 1 1 1 1 1 1 1 1 1 1 1 1 1 1 1 1 1 1 1 1 1 1 1 1 1 1 1 1 1 1 1 1 1 1 1 1 1 1 1 1 1 1 1 1 1 1 1 1 1 1 1 1 1 1 1 1 1 1 1 1 1 1 1 1 1 1 1 1 1 1 1 1 1 1 1 1 1 1 1 1 1 1 1 1 1 1 1 1 1 1 1 1 1 1 0 0 0 0 0 0 0 0 0 0 0 0 0 0 0 0 0 0 0 0 0 0 0 0 0 0 0 0 0 0 0\n",
      "2019-11-08 03:13:50,383 - load_data.py - INFO - segment_ids: 1 0 0 0 0 0 1 1 1 1 1 1 1 1 1 1 1 1 1 1 1 1 1 1 1 1 1 1 1 1 1 1 1 1 1 1 1 1 1 1 1 1 1 1 1 1 1 1 1 1 1 1 1 1 1 1 1 1 1 1 1 1 1 1 1 1 1 1 1 1 1 1 1 1 1 1 1 1 1 1 1 1 1 1 1 1 1 1 1 1 1 1 1 1 1 1 1 0 0 0 0 0 0 0 0 0 0 0 0 0 0 0 0 0 0 0 0 0 0 0 0 0 0 0 0 0 0 0\n",
      "2019-11-08 03:13:50,384 - load_data.py - INFO - label: 0 (id = 0)\n"
     ]
    }
   ],
   "source": [
    "features = convert_examples_to_features(examples, tokenizer,\n",
    "            cls_token_at_end=bool(MODEL_TYPE in ['xlnet']),            # xlnet has a cls token at the end\n",
    "            cls_token=tokenizer.cls_token,\n",
    "            sep_token=tokenizer.sep_token,\n",
    "            cls_token_segment_id=2 if MODEL_TYPE in ['xlnet'] else 1,\n",
    "            pad_on_left=bool(MODEL_TYPE in ['xlnet']),                 # pad on the left for xlnet\n",
    "            pad_token_segment_id=4 if MODEL_TYPE in ['xlnet'] else 0)\n",
    "\n",
    "# Convert to Tensors and build dataset\n",
    "all_input_ids = torch.tensor([f.input_ids for f in features], dtype=torch.long)\n",
    "all_input_mask = torch.tensor([f.input_mask for f in features], dtype=torch.long)\n",
    "all_segment_ids = torch.tensor([f.segment_ids for f in features], dtype=torch.long)\n",
    "all_label_ids = torch.tensor([f.label_id for f in features], dtype=torch.long)\n",
    "\n",
    "dataset = TensorDataset(all_input_ids, all_input_mask, all_segment_ids, all_label_ids)"
   ]
  },
  {
   "cell_type": "code",
   "execution_count": 22,
   "metadata": {},
   "outputs": [],
   "source": [
    "out_dir = \"runs/xlm_4/\"\n",
    "config = MODEL_CLASSES[MODEL_TYPE][0].from_pretrained(out_dir, num_labels=2, finetuning_task=\"zalo\")\n",
    "model = MODEL_CLASSES[MODEL_TYPE][1].from_pretrained(out_dir, from_tf=False, config=config)"
   ]
  },
  {
   "cell_type": "code",
   "execution_count": 23,
   "metadata": {},
   "outputs": [],
   "source": [
    "distill_sampler = SequentialSampler(dataset)\n",
    "distill_dataloader = DataLoader(dataset, sampler=distill_sampler, batch_size=BATCH_SIZE)"
   ]
  },
  {
   "cell_type": "code",
   "execution_count": 24,
   "metadata": {},
   "outputs": [
    {
     "name": "stderr",
     "output_type": "stream",
     "text": [
      "100%|██████████| 335/335 [00:21<00:00, 15.82it/s]\n"
     ]
    }
   ],
   "source": [
    "model.to(DEVICE)\n",
    "model.eval()\n",
    "i = 2\n",
    "\n",
    "out_sent = []\n",
    "out_logit_0 = []\n",
    "out_logit_1 = []\n",
    "\n",
    "out_label = []\n",
    "for batch in tqdm(distill_dataloader):\n",
    "    batch = tuple(t.to(DEVICE) for t in batch)\n",
    "    with torch.no_grad():\n",
    "        inputs = {'input_ids':      batch[0],\n",
    "                      'attention_mask': batch[1],\n",
    "                      'token_type_ids': batch[2] if MODEL_TYPE in ['bert', 'xlnet'] else None,  # XLM don't use segment_ids\n",
    "                      'labels':         batch[3]}\n",
    "\n",
    "        outputs = model(**inputs)\n",
    "        _, logits = outputs[:2]\n",
    "        out_label.extend([0 if x[0] > x[1] else 1 for x in logits])"
   ]
  },
  {
   "cell_type": "code",
   "execution_count": 25,
   "metadata": {},
   "outputs": [],
   "source": [
    "for k, l in zip(output_ids, out_label):\n",
    "    k[out_dir] = l\n",
    "        "
   ]
  },
  {
   "cell_type": "code",
   "execution_count": 33,
   "metadata": {},
   "outputs": [],
   "source": [
    "df.loc[:,'Row_Total'] = df.sum(numeric_only=True, axis=1)"
   ]
  },
  {
   "cell_type": "code",
   "execution_count": 37,
   "metadata": {},
   "outputs": [],
   "source": [
    "df = pd.DataFrame(output_ids)\n",
    "df.to_csv(\"data/submission_xlm_id.csv\", index=False)"
   ]
  }
 ],
 "metadata": {
  "kernelspec": {
   "display_name": "Python [conda env:root] *",
   "language": "python",
   "name": "conda-root-py"
  },
  "language_info": {
   "codemirror_mode": {
    "name": "ipython",
    "version": 3
   },
   "file_extension": ".py",
   "mimetype": "text/x-python",
   "name": "python",
   "nbconvert_exporter": "python",
   "pygments_lexer": "ipython3",
   "version": "3.7.4"
  }
 },
 "nbformat": 4,
 "nbformat_minor": 2
}

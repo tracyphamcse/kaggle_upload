{
 "cells": [
  {
   "cell_type": "code",
   "execution_count": 1,
   "metadata": {},
   "outputs": [],
   "source": [
    "%reload_ext autoreload\n",
    "%autoreload 2"
   ]
  },
  {
   "cell_type": "code",
   "execution_count": 2,
   "metadata": {},
   "outputs": [],
   "source": [
    "from config.config import MODEL_PATH, MODEL_CLASSES, MODEL_TYPE, DO_LOWER_CASE, BATCH_SIZE, DEVICE\n",
    "from utils.load_data import *\n",
    "from utils.utils import set_seed\n",
    "import torch\n",
    "from torch.utils.data import DataLoader, SequentialSampler\n",
    "from tqdm import tqdm\n",
    "import pandas as pd\n"
   ]
  },
  {
   "cell_type": "code",
   "execution_count": 3,
   "metadata": {},
   "outputs": [],
   "source": [
    "tokenizer = MODEL_CLASSES[MODEL_TYPE][2].from_pretrained(MODEL_PATH, do_lower_case=DO_LOWER_CASE)"
   ]
  },
  {
   "cell_type": "code",
   "execution_count": 4,
   "metadata": {},
   "outputs": [],
   "source": [
    "import json\n",
    "data = json.load(open(\"data/test.json\",encoding='utf-8'))"
   ]
  },
  {
   "cell_type": "code",
   "execution_count": 5,
   "metadata": {},
   "outputs": [],
   "source": [
    "examples = []\n",
    "output_ids = []\n",
    "\n",
    "for testcase in data:\n",
    "    \n",
    "    test_id = testcase[\"__id__\"]\n",
    "    text_a = testcase[\"question\"]\n",
    "    \n",
    "    for paragraph in testcase[\"paragraphs\"]:\n",
    "        \n",
    "        answer_id = paragraph[\"id\"]\n",
    "        output_ids.append({\"test_id\": test_id, \"answer\": answer_id})\n",
    "        \n",
    "        text_b = paragraph[\"text\"]\n",
    "        example = InputExample(guid=\"\", text_a=text_a, text_b=text_b, label=0)\n",
    "        examples.append(example)\n",
    "        "
   ]
  },
  {
   "cell_type": "code",
   "execution_count": 6,
   "metadata": {},
   "outputs": [],
   "source": [
    "cached_features_file = os.path.join(DATA_DIR, 'cached_testjson_{}_{}'.format(\n",
    "                                    MODEL_TYPE, MAX_SEQ_LENGTH))"
   ]
  },
  {
   "cell_type": "code",
   "execution_count": 7,
   "metadata": {},
   "outputs": [
    {
     "name": "stdout",
     "output_type": "stream",
     "text": [
      "2019-10-22 08:50:28,060 - load_data.py - INFO - Writing example 0 of 2678\n",
      "2019-10-22 08:50:28,064 - load_data.py - INFO - *** Example ***\n",
      "2019-10-22 08:50:28,066 - load_data.py - INFO - guid: \n",
      "2019-10-22 08:50:28,067 - load_data.py - INFO - tokens: [CLS] To ##à nhà nào cao nhất Vi ##ệt Nam [SEP] The Landmark 81 là một to ##à nhà ch ##ọc trời trong tổ hợp dự án Vi ##nho ##mes T ##ân C ##ảng , một dự án có tổng mức đầu tư 40 . 000 tỷ đồng , do Công ty Cổ phần Đầu tư xây dựng T ##ân Liên Ph ##át thuộc Vi ##ng ##rou ##p làm chủ đầu tư . To ##à tháp cao 81 tầng , hiện tại là to ##à nhà cao nhất Vi ##ệt Nam và là to ##à nhà cao nhất Đông Nam Á từ tháng 3 năm 2018 . [SEP]\n",
      "2019-10-22 08:50:28,068 - load_data.py - INFO - input_ids: 101 11469 10816 13265 27258 15341 13346 31826 30097 12645 102 10117 106969 12324 10331 10417 10114 10816 13265 18643 51025 68121 10504 21217 16117 24467 15832 31826 47877 13546 157 15218 140 47129 117 10417 24467 15832 10601 23258 46417 11201 24257 10533 119 10259 34096 15049 117 10149 21498 26864 55559 15958 102619 24257 27465 26661 157 15218 22447 29343 11969 12005 31826 10376 20217 10410 12984 16549 11201 24257 119 11469 10816 86723 15341 12324 61521 117 13526 12086 10331 10114 10816 13265 15341 13346 31826 30097 12645 10432 10331 10114 10816 13265 15341 13346 20053 12645 226 11840 11642 124 10558 10434 119 102 0 0 0 0 0 0 0 0 0 0 0 0 0 0 0 0 0 0 0 0 0 0 0 0 0 0 0 0 0 0 0 0 0 0 0 0 0 0 0 0 0 0 0 0 0 0 0 0 0 0 0 0 0 0 0 0 0 0 0 0 0 0 0 0 0 0 0 0 0 0 0 0 0 0 0 0 0 0 0 0 0 0 0 0 0 0 0 0 0 0 0 0 0 0 0 0 0 0 0 0 0 0 0 0 0 0 0 0 0 0 0 0 0 0 0 0 0 0 0 0 0 0 0 0 0 0 0 0 0 0 0 0 0 0 0 0 0 0 0 0 0 0 0 0 0 0 0 0\n",
      "2019-10-22 08:50:28,069 - load_data.py - INFO - input_mask: 1 1 1 1 1 1 1 1 1 1 1 1 1 1 1 1 1 1 1 1 1 1 1 1 1 1 1 1 1 1 1 1 1 1 1 1 1 1 1 1 1 1 1 1 1 1 1 1 1 1 1 1 1 1 1 1 1 1 1 1 1 1 1 1 1 1 1 1 1 1 1 1 1 1 1 1 1 1 1 1 1 1 1 1 1 1 1 1 1 1 1 1 1 1 1 1 1 1 1 1 1 1 1 1 1 1 1 1 0 0 0 0 0 0 0 0 0 0 0 0 0 0 0 0 0 0 0 0 0 0 0 0 0 0 0 0 0 0 0 0 0 0 0 0 0 0 0 0 0 0 0 0 0 0 0 0 0 0 0 0 0 0 0 0 0 0 0 0 0 0 0 0 0 0 0 0 0 0 0 0 0 0 0 0 0 0 0 0 0 0 0 0 0 0 0 0 0 0 0 0 0 0 0 0 0 0 0 0 0 0 0 0 0 0 0 0 0 0 0 0 0 0 0 0 0 0 0 0 0 0 0 0 0 0 0 0 0 0 0 0 0 0 0 0 0 0 0 0 0 0 0 0 0 0 0 0\n",
      "2019-10-22 08:50:28,072 - load_data.py - INFO - segment_ids: 1 0 0 0 0 0 0 0 0 0 0 1 1 1 1 1 1 1 1 1 1 1 1 1 1 1 1 1 1 1 1 1 1 1 1 1 1 1 1 1 1 1 1 1 1 1 1 1 1 1 1 1 1 1 1 1 1 1 1 1 1 1 1 1 1 1 1 1 1 1 1 1 1 1 1 1 1 1 1 1 1 1 1 1 1 1 1 1 1 1 1 1 1 1 1 1 1 1 1 1 1 1 1 1 1 1 1 1 0 0 0 0 0 0 0 0 0 0 0 0 0 0 0 0 0 0 0 0 0 0 0 0 0 0 0 0 0 0 0 0 0 0 0 0 0 0 0 0 0 0 0 0 0 0 0 0 0 0 0 0 0 0 0 0 0 0 0 0 0 0 0 0 0 0 0 0 0 0 0 0 0 0 0 0 0 0 0 0 0 0 0 0 0 0 0 0 0 0 0 0 0 0 0 0 0 0 0 0 0 0 0 0 0 0 0 0 0 0 0 0 0 0 0 0 0 0 0 0 0 0 0 0 0 0 0 0 0 0 0 0 0 0 0 0 0 0 0 0 0 0 0 0 0 0 0 0\n",
      "2019-10-22 08:50:28,073 - load_data.py - INFO - label: 0 (id = 0)\n",
      "2019-10-22 08:50:28,075 - load_data.py - INFO - *** Example ***\n",
      "2019-10-22 08:50:28,076 - load_data.py - INFO - guid: \n",
      "2019-10-22 08:50:28,077 - load_data.py - INFO - tokens: [CLS] To ##à nhà nào cao nhất Vi ##ệt Nam [SEP] To ##à tháp cao 81 tầng , hiện tại là to ##à nhà cao nhất Vi ##ệt Nam và là to ##à nhà cao nhất Đông Nam Á từ tháng 3 năm 2018 . D ##ự án được xây dựng ở T ##ân C ##ảng , quận Bình Th ##ạnh , ven sông Sài Gòn . D ##ự án được khởi công ngày 26 / 07 / 2014 . [SEP]\n",
      "2019-10-22 08:50:28,079 - load_data.py - INFO - input_ids: 101 11469 10816 13265 27258 15341 13346 31826 30097 12645 102 11469 10816 86723 15341 12324 61521 117 13526 12086 10331 10114 10816 13265 15341 13346 31826 30097 12645 10432 10331 10114 10816 13265 15341 13346 20053 12645 226 11840 11642 124 10558 10434 119 141 42397 15832 10476 27465 26661 1682 157 15218 140 47129 117 22783 23679 51635 55572 117 26044 23546 97879 104975 119 141 42397 15832 10476 50376 12319 12137 10314 120 10878 120 10194 119 102 0 0 0 0 0 0 0 0 0 0 0 0 0 0 0 0 0 0 0 0 0 0 0 0 0 0 0 0 0 0 0 0 0 0 0 0 0 0 0 0 0 0 0 0 0 0 0 0 0 0 0 0 0 0 0 0 0 0 0 0 0 0 0 0 0 0 0 0 0 0 0 0 0 0 0 0 0 0 0 0 0 0 0 0 0 0 0 0 0 0 0 0 0 0 0 0 0 0 0 0 0 0 0 0 0 0 0 0 0 0 0 0 0 0 0 0 0 0 0 0 0 0 0 0 0 0 0 0 0 0 0 0 0 0 0 0 0 0 0 0 0 0 0 0 0 0 0 0 0 0 0 0 0 0 0 0 0 0 0 0 0 0 0 0 0 0 0 0 0 0 0 0 0 0 0\n",
      "2019-10-22 08:50:28,080 - load_data.py - INFO - input_mask: 1 1 1 1 1 1 1 1 1 1 1 1 1 1 1 1 1 1 1 1 1 1 1 1 1 1 1 1 1 1 1 1 1 1 1 1 1 1 1 1 1 1 1 1 1 1 1 1 1 1 1 1 1 1 1 1 1 1 1 1 1 1 1 1 1 1 1 1 1 1 1 1 1 1 1 1 1 1 1 1 1 0 0 0 0 0 0 0 0 0 0 0 0 0 0 0 0 0 0 0 0 0 0 0 0 0 0 0 0 0 0 0 0 0 0 0 0 0 0 0 0 0 0 0 0 0 0 0 0 0 0 0 0 0 0 0 0 0 0 0 0 0 0 0 0 0 0 0 0 0 0 0 0 0 0 0 0 0 0 0 0 0 0 0 0 0 0 0 0 0 0 0 0 0 0 0 0 0 0 0 0 0 0 0 0 0 0 0 0 0 0 0 0 0 0 0 0 0 0 0 0 0 0 0 0 0 0 0 0 0 0 0 0 0 0 0 0 0 0 0 0 0 0 0 0 0 0 0 0 0 0 0 0 0 0 0 0 0 0 0 0 0 0 0 0 0 0 0 0 0 0 0 0 0 0 0\n",
      "2019-10-22 08:50:28,081 - load_data.py - INFO - segment_ids: 1 0 0 0 0 0 0 0 0 0 0 1 1 1 1 1 1 1 1 1 1 1 1 1 1 1 1 1 1 1 1 1 1 1 1 1 1 1 1 1 1 1 1 1 1 1 1 1 1 1 1 1 1 1 1 1 1 1 1 1 1 1 1 1 1 1 1 1 1 1 1 1 1 1 1 1 1 1 1 1 1 0 0 0 0 0 0 0 0 0 0 0 0 0 0 0 0 0 0 0 0 0 0 0 0 0 0 0 0 0 0 0 0 0 0 0 0 0 0 0 0 0 0 0 0 0 0 0 0 0 0 0 0 0 0 0 0 0 0 0 0 0 0 0 0 0 0 0 0 0 0 0 0 0 0 0 0 0 0 0 0 0 0 0 0 0 0 0 0 0 0 0 0 0 0 0 0 0 0 0 0 0 0 0 0 0 0 0 0 0 0 0 0 0 0 0 0 0 0 0 0 0 0 0 0 0 0 0 0 0 0 0 0 0 0 0 0 0 0 0 0 0 0 0 0 0 0 0 0 0 0 0 0 0 0 0 0 0 0 0 0 0 0 0 0 0 0 0 0 0 0 0 0 0 0 0\n",
      "2019-10-22 08:50:28,083 - load_data.py - INFO - label: 0 (id = 0)\n",
      "2019-10-22 08:50:28,086 - load_data.py - INFO - *** Example ***\n",
      "2019-10-22 08:50:28,088 - load_data.py - INFO - guid: \n",
      "2019-10-22 08:50:28,089 - load_data.py - INFO - tokens: [CLS] Mess ##i thuận chân nào [SEP] Đô ##i chân ngắn nhưng mạnh m ##ẽ giúp Mess ##i dễ dà ##ng tăng tốc và s ##ải chân nhanh giúp anh kiểm soát bóng tốt khi r ##ê d ##ắt ở tốc độ cao . C ##ựu huấn luyện viên Bar ##cel ##ona , Pe ##p Guard ##iola , từng nhận xét rằng : \" Mess ##i là cầu thủ duy nhất chạy với bóng còn nhanh hơn là chạy không bóng . \" G ##i ##ống Mara ##dona , Mess ##i là một cầu thủ thuận chân trái . [SEP]\n",
      "2019-10-22 08:50:28,090 - load_data.py - INFO - input_ids: 101 44006 10116 58629 28066 27258 102 37412 10116 28066 51656 15662 29172 181 45563 31487 44006 10116 58160 55962 10376 21740 43978 10432 187 32123 28066 41652 31487 19087 43229 64520 22270 33598 12072 186 15915 172 67188 1682 43978 14776 15341 119 140 71629 72170 52320 15202 20698 32942 12920 117 29005 10410 28739 63005 117 26258 16638 66331 16487 131 107 44006 10116 10331 19168 18755 38779 13346 38135 11182 22270 14674 41652 14789 10331 38135 11755 22270 119 107 144 10116 29028 48690 64674 117 44006 10116 10331 10417 19168 18755 58629 28066 57469 119 102 0 0 0 0 0 0 0 0 0 0 0 0 0 0 0 0 0 0 0 0 0 0 0 0 0 0 0 0 0 0 0 0 0 0 0 0 0 0 0 0 0 0 0 0 0 0 0 0 0 0 0 0 0 0 0 0 0 0 0 0 0 0 0 0 0 0 0 0 0 0 0 0 0 0 0 0 0 0 0 0 0 0 0 0 0 0 0 0 0 0 0 0 0 0 0 0 0 0 0 0 0 0 0 0 0 0 0 0 0 0 0 0 0 0 0 0 0 0 0 0 0 0 0 0 0 0 0 0 0 0 0 0 0 0 0 0 0 0 0 0 0 0 0 0 0 0 0 0 0 0 0 0 0 0 0 0\n",
      "2019-10-22 08:50:28,091 - load_data.py - INFO - input_mask: 1 1 1 1 1 1 1 1 1 1 1 1 1 1 1 1 1 1 1 1 1 1 1 1 1 1 1 1 1 1 1 1 1 1 1 1 1 1 1 1 1 1 1 1 1 1 1 1 1 1 1 1 1 1 1 1 1 1 1 1 1 1 1 1 1 1 1 1 1 1 1 1 1 1 1 1 1 1 1 1 1 1 1 1 1 1 1 1 1 1 1 1 1 1 1 1 1 1 1 1 0 0 0 0 0 0 0 0 0 0 0 0 0 0 0 0 0 0 0 0 0 0 0 0 0 0 0 0 0 0 0 0 0 0 0 0 0 0 0 0 0 0 0 0 0 0 0 0 0 0 0 0 0 0 0 0 0 0 0 0 0 0 0 0 0 0 0 0 0 0 0 0 0 0 0 0 0 0 0 0 0 0 0 0 0 0 0 0 0 0 0 0 0 0 0 0 0 0 0 0 0 0 0 0 0 0 0 0 0 0 0 0 0 0 0 0 0 0 0 0 0 0 0 0 0 0 0 0 0 0 0 0 0 0 0 0 0 0 0 0 0 0 0 0 0 0 0 0 0 0 0 0 0 0 0 0\n",
      "2019-10-22 08:50:28,093 - load_data.py - INFO - segment_ids: 1 0 0 0 0 0 0 1 1 1 1 1 1 1 1 1 1 1 1 1 1 1 1 1 1 1 1 1 1 1 1 1 1 1 1 1 1 1 1 1 1 1 1 1 1 1 1 1 1 1 1 1 1 1 1 1 1 1 1 1 1 1 1 1 1 1 1 1 1 1 1 1 1 1 1 1 1 1 1 1 1 1 1 1 1 1 1 1 1 1 1 1 1 1 1 1 1 1 1 1 0 0 0 0 0 0 0 0 0 0 0 0 0 0 0 0 0 0 0 0 0 0 0 0 0 0 0 0 0 0 0 0 0 0 0 0 0 0 0 0 0 0 0 0 0 0 0 0 0 0 0 0 0 0 0 0 0 0 0 0 0 0 0 0 0 0 0 0 0 0 0 0 0 0 0 0 0 0 0 0 0 0 0 0 0 0 0 0 0 0 0 0 0 0 0 0 0 0 0 0 0 0 0 0 0 0 0 0 0 0 0 0 0 0 0 0 0 0 0 0 0 0 0 0 0 0 0 0 0 0 0 0 0 0 0 0 0 0 0 0 0 0 0 0 0 0 0 0 0 0 0 0 0 0 0 0\n",
      "2019-10-22 08:50:28,095 - load_data.py - INFO - label: 0 (id = 0)\n",
      "2019-10-22 08:50:28,097 - load_data.py - INFO - *** Example ***\n"
     ]
    },
    {
     "name": "stdout",
     "output_type": "stream",
     "text": [
      "2019-10-22 08:50:28,099 - load_data.py - INFO - guid: \n",
      "2019-10-22 08:50:28,100 - load_data.py - INFO - tokens: [CLS] Mess ##i thuận chân nào [SEP] C ##ựu huấn luyện viên Bar ##cel ##ona , Pe ##p Guard ##iola , từng nhận xét rằng : \" Mess ##i là cầu thủ duy nhất chạy với bóng còn nhanh hơn là chạy không bóng . \" G ##i ##ống Mara ##dona , Mess ##i là một cầu thủ thuận chân trái . Anh thường sử dụng má ngoài chân trái khi giữ bóng , trong khi dùng má trong để d ##ứt điểm , chu ##yền bóng và kiến tạo cho đồng đội . [SEP]\n",
      "2019-10-22 08:50:28,101 - load_data.py - INFO - input_ids: 101 44006 10116 58629 28066 27258 102 140 71629 72170 52320 15202 20698 32942 12920 117 29005 10410 28739 63005 117 26258 16638 66331 16487 131 107 44006 10116 10331 19168 18755 38779 13346 38135 11182 22270 14674 41652 14789 10331 38135 11755 22270 119 107 144 10116 29028 48690 64674 117 44006 10116 10331 10417 19168 18755 58629 28066 57469 119 15212 16591 14808 15237 13267 25331 28066 57469 12072 25618 22270 117 10504 12072 22344 13267 10504 12460 172 76290 15509 117 109628 96097 22270 10432 32051 17783 11257 15049 15671 119 102 0 0 0 0 0 0 0 0 0 0 0 0 0 0 0 0 0 0 0 0 0 0 0 0 0 0 0 0 0 0 0 0 0 0 0 0 0 0 0 0 0 0 0 0 0 0 0 0 0 0 0 0 0 0 0 0 0 0 0 0 0 0 0 0 0 0 0 0 0 0 0 0 0 0 0 0 0 0 0 0 0 0 0 0 0 0 0 0 0 0 0 0 0 0 0 0 0 0 0 0 0 0 0 0 0 0 0 0 0 0 0 0 0 0 0 0 0 0 0 0 0 0 0 0 0 0 0 0 0 0 0 0 0 0 0 0 0 0 0 0 0 0 0 0 0 0 0 0 0 0 0 0 0 0 0 0 0 0 0 0 0\n",
      "2019-10-22 08:50:28,102 - load_data.py - INFO - input_mask: 1 1 1 1 1 1 1 1 1 1 1 1 1 1 1 1 1 1 1 1 1 1 1 1 1 1 1 1 1 1 1 1 1 1 1 1 1 1 1 1 1 1 1 1 1 1 1 1 1 1 1 1 1 1 1 1 1 1 1 1 1 1 1 1 1 1 1 1 1 1 1 1 1 1 1 1 1 1 1 1 1 1 1 1 1 1 1 1 1 1 1 1 1 1 1 0 0 0 0 0 0 0 0 0 0 0 0 0 0 0 0 0 0 0 0 0 0 0 0 0 0 0 0 0 0 0 0 0 0 0 0 0 0 0 0 0 0 0 0 0 0 0 0 0 0 0 0 0 0 0 0 0 0 0 0 0 0 0 0 0 0 0 0 0 0 0 0 0 0 0 0 0 0 0 0 0 0 0 0 0 0 0 0 0 0 0 0 0 0 0 0 0 0 0 0 0 0 0 0 0 0 0 0 0 0 0 0 0 0 0 0 0 0 0 0 0 0 0 0 0 0 0 0 0 0 0 0 0 0 0 0 0 0 0 0 0 0 0 0 0 0 0 0 0 0 0 0 0 0 0 0 0 0 0 0 0\n",
      "2019-10-22 08:50:28,103 - load_data.py - INFO - segment_ids: 1 0 0 0 0 0 0 1 1 1 1 1 1 1 1 1 1 1 1 1 1 1 1 1 1 1 1 1 1 1 1 1 1 1 1 1 1 1 1 1 1 1 1 1 1 1 1 1 1 1 1 1 1 1 1 1 1 1 1 1 1 1 1 1 1 1 1 1 1 1 1 1 1 1 1 1 1 1 1 1 1 1 1 1 1 1 1 1 1 1 1 1 1 1 1 0 0 0 0 0 0 0 0 0 0 0 0 0 0 0 0 0 0 0 0 0 0 0 0 0 0 0 0 0 0 0 0 0 0 0 0 0 0 0 0 0 0 0 0 0 0 0 0 0 0 0 0 0 0 0 0 0 0 0 0 0 0 0 0 0 0 0 0 0 0 0 0 0 0 0 0 0 0 0 0 0 0 0 0 0 0 0 0 0 0 0 0 0 0 0 0 0 0 0 0 0 0 0 0 0 0 0 0 0 0 0 0 0 0 0 0 0 0 0 0 0 0 0 0 0 0 0 0 0 0 0 0 0 0 0 0 0 0 0 0 0 0 0 0 0 0 0 0 0 0 0 0 0 0 0 0 0 0 0 0 0\n",
      "2019-10-22 08:50:28,105 - load_data.py - INFO - label: 0 (id = 0)\n",
      "2019-10-22 08:50:28,107 - load_data.py - INFO - *** Example ***\n",
      "2019-10-22 08:50:28,109 - load_data.py - INFO - guid: \n",
      "2019-10-22 08:50:28,111 - load_data.py - INFO - tokens: [CLS] Mess ##i thuận chân nào [SEP] Ngoài ra anh còn một chân sú ##t ph ##ạt chính và hay đảm nhận các quả ph ##ạt đền của đội . Khi đề cập đến k ##ĩ năng d ##ắt bóng của anh , Mara ##dona đã từng nói : \" Trái bóng d ##ính ch ##ặt vào chân anh ấy ; Trong sự nghiệp của mình tôi đã xem nhiều cầu thủ xuất chúng chơi bóng nhưng không ai giữ bóng tốt như Mess ##i . \" Mara ##dona còn cho biết rằng ông tin Mess ##i là cầu thủ xuất sắc nhất thế giới hiện tại . [SEP]\n",
      "2019-10-22 08:50:28,112 - load_data.py - INFO - input_ids: 101 44006 10116 58629 28066 27258 102 45447 11859 19087 14674 10417 28066 17024 10123 99142 29882 12707 10432 13605 62787 16638 10792 25308 99142 29882 97001 10447 15671 119 30306 20192 41472 12002 179 74016 20046 172 67188 22270 10447 19087 117 48690 64674 11213 26258 22072 131 107 82051 22270 172 59304 18643 77381 11603 28066 19087 52256 132 16461 12636 20608 10447 17830 40813 11213 35143 13710 19168 18755 14930 18097 25357 22270 15662 11755 11346 25618 22270 33598 12552 44006 10116 119 107 48690 64674 14674 11257 21820 16487 12660 21629 44006 10116 10331 19168 18755 14930 31137 13346 14421 15814 13526 12086 119 102 0 0 0 0 0 0 0 0 0 0 0 0 0 0 0 0 0 0 0 0 0 0 0 0 0 0 0 0 0 0 0 0 0 0 0 0 0 0 0 0 0 0 0 0 0 0 0 0 0 0 0 0 0 0 0 0 0 0 0 0 0 0 0 0 0 0 0 0 0 0 0 0 0 0 0 0 0 0 0 0 0 0 0 0 0 0 0 0 0 0 0 0 0 0 0 0 0 0 0 0 0 0 0 0 0 0 0 0 0 0 0 0 0 0 0 0 0 0 0 0 0 0 0 0 0 0 0 0 0 0 0 0 0 0 0 0 0 0 0 0 0 0 0 0 0 0 0\n",
      "2019-10-22 08:50:28,114 - load_data.py - INFO - input_mask: 1 1 1 1 1 1 1 1 1 1 1 1 1 1 1 1 1 1 1 1 1 1 1 1 1 1 1 1 1 1 1 1 1 1 1 1 1 1 1 1 1 1 1 1 1 1 1 1 1 1 1 1 1 1 1 1 1 1 1 1 1 1 1 1 1 1 1 1 1 1 1 1 1 1 1 1 1 1 1 1 1 1 1 1 1 1 1 1 1 1 1 1 1 1 1 1 1 1 1 1 1 1 1 1 1 1 1 1 1 0 0 0 0 0 0 0 0 0 0 0 0 0 0 0 0 0 0 0 0 0 0 0 0 0 0 0 0 0 0 0 0 0 0 0 0 0 0 0 0 0 0 0 0 0 0 0 0 0 0 0 0 0 0 0 0 0 0 0 0 0 0 0 0 0 0 0 0 0 0 0 0 0 0 0 0 0 0 0 0 0 0 0 0 0 0 0 0 0 0 0 0 0 0 0 0 0 0 0 0 0 0 0 0 0 0 0 0 0 0 0 0 0 0 0 0 0 0 0 0 0 0 0 0 0 0 0 0 0 0 0 0 0 0 0 0 0 0 0 0 0 0 0 0 0 0 0\n",
      "2019-10-22 08:50:28,115 - load_data.py - INFO - segment_ids: 1 0 0 0 0 0 0 1 1 1 1 1 1 1 1 1 1 1 1 1 1 1 1 1 1 1 1 1 1 1 1 1 1 1 1 1 1 1 1 1 1 1 1 1 1 1 1 1 1 1 1 1 1 1 1 1 1 1 1 1 1 1 1 1 1 1 1 1 1 1 1 1 1 1 1 1 1 1 1 1 1 1 1 1 1 1 1 1 1 1 1 1 1 1 1 1 1 1 1 1 1 1 1 1 1 1 1 1 1 0 0 0 0 0 0 0 0 0 0 0 0 0 0 0 0 0 0 0 0 0 0 0 0 0 0 0 0 0 0 0 0 0 0 0 0 0 0 0 0 0 0 0 0 0 0 0 0 0 0 0 0 0 0 0 0 0 0 0 0 0 0 0 0 0 0 0 0 0 0 0 0 0 0 0 0 0 0 0 0 0 0 0 0 0 0 0 0 0 0 0 0 0 0 0 0 0 0 0 0 0 0 0 0 0 0 0 0 0 0 0 0 0 0 0 0 0 0 0 0 0 0 0 0 0 0 0 0 0 0 0 0 0 0 0 0 0 0 0 0 0 0 0 0 0 0 0\n",
      "2019-10-22 08:50:28,116 - load_data.py - INFO - label: 0 (id = 0)\n",
      "2019-10-22 08:50:30,987 - load_data.py - INFO - Saving features into cached file /home/tracy/zalo_qa/data/cached_testjson_bert_256\n"
     ]
    }
   ],
   "source": [
    "features = convert_examples_to_features(examples, tokenizer,\n",
    "            cls_token_at_end=bool(MODEL_TYPE in ['xlnet']),            # xlnet has a cls token at the end\n",
    "            cls_token=tokenizer.cls_token,\n",
    "            sep_token=tokenizer.sep_token,\n",
    "            cls_token_segment_id=2 if MODEL_TYPE in ['xlnet'] else 1,\n",
    "            pad_on_left=bool(MODEL_TYPE in ['xlnet']),                 # pad on the left for xlnet\n",
    "            pad_token_segment_id=4 if MODEL_TYPE in ['xlnet'] else 0)\n",
    "\n",
    "logger.info(\"Saving features into cached file %s\", cached_features_file)\n",
    "torch.save(features, cached_features_file)\n",
    "\n",
    "# Convert to Tensors and build dataset\n",
    "all_input_ids = torch.tensor([f.input_ids for f in features], dtype=torch.long)\n",
    "all_input_mask = torch.tensor([f.input_mask for f in features], dtype=torch.long)\n",
    "all_segment_ids = torch.tensor([f.segment_ids for f in features], dtype=torch.long)\n",
    "all_label_ids = torch.tensor([f.label_id for f in features], dtype=torch.long)\n",
    "\n",
    "dataset = TensorDataset(all_input_ids, all_input_mask, all_segment_ids, all_label_ids)"
   ]
  },
  {
   "cell_type": "code",
   "execution_count": 8,
   "metadata": {},
   "outputs": [],
   "source": [
    "out_dir = \"runs/1571729389/\"\n",
    "config = MODEL_CLASSES[MODEL_TYPE][0].from_pretrained(out_dir, num_labels=2, finetuning_task=\"Racism\")\n",
    "model = MODEL_CLASSES[MODEL_TYPE][1].from_pretrained(out_dir, from_tf=False, config=config)"
   ]
  },
  {
   "cell_type": "code",
   "execution_count": 9,
   "metadata": {},
   "outputs": [],
   "source": [
    "distill_sampler = SequentialSampler(dataset)\n",
    "distill_dataloader = DataLoader(dataset, sampler=distill_sampler, batch_size=BATCH_SIZE)"
   ]
  },
  {
   "cell_type": "code",
   "execution_count": 10,
   "metadata": {},
   "outputs": [
    {
     "name": "stderr",
     "output_type": "stream",
     "text": [
      "100%|██████████| 335/335 [00:33<00:00,  9.87it/s]\n"
     ]
    }
   ],
   "source": [
    "model.to(DEVICE)\n",
    "model.eval()\n",
    "i = 2\n",
    "\n",
    "out_sent = []\n",
    "out_logit_0 = []\n",
    "out_logit_1 = []\n",
    "\n",
    "out_label = []\n",
    "for batch in tqdm(distill_dataloader):\n",
    "    batch = tuple(t.to(DEVICE) for t in batch)\n",
    "    with torch.no_grad():\n",
    "        inputs = {'input_ids':      batch[0],\n",
    "                      'attention_mask': batch[1],\n",
    "                      'token_type_ids': batch[2] if MODEL_TYPE in ['bert', 'xlnet'] else None,  # XLM don't use segment_ids\n",
    "                      'labels':         batch[3]}\n",
    "\n",
    "        outputs = model(**inputs)\n",
    "        _, logits = outputs[:2]\n",
    "        out_label.extend([0 if x[0] > x[1] else 1 for x in logits])"
   ]
  },
  {
   "cell_type": "code",
   "execution_count": 11,
   "metadata": {},
   "outputs": [],
   "source": [
    "data_out = []\n",
    "for k, l in zip(output_ids, out_label):\n",
    "    if l == 1:\n",
    "        data_out.append(k)\n",
    "        "
   ]
  },
  {
   "cell_type": "code",
   "execution_count": 12,
   "metadata": {},
   "outputs": [],
   "source": [
    "df = pd.DataFrame(data_out)\n",
    "df.to_csv(\"data/submission_6.csv\", index=False)"
   ]
  }
 ],
 "metadata": {
  "kernelspec": {
   "display_name": "zalo_qa",
   "language": "python",
   "name": "zalo_qa"
  },
  "language_info": {
   "codemirror_mode": {
    "name": "ipython",
    "version": 3
   },
   "file_extension": ".py",
   "mimetype": "text/x-python",
   "name": "python",
   "nbconvert_exporter": "python",
   "pygments_lexer": "ipython3",
   "version": "3.6.9"
  }
 },
 "nbformat": 4,
 "nbformat_minor": 2
}
